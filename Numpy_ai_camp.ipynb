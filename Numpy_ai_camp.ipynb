{
  "nbformat": 4,
  "nbformat_minor": 0,
  "metadata": {
    "colab": {
      "provenance": [],
      "include_colab_link": true
    },
    "kernelspec": {
      "name": "python3",
      "display_name": "Python 3"
    },
    "language_info": {
      "name": "python"
    }
  },
  "cells": [
    {
      "cell_type": "markdown",
      "metadata": {
        "id": "view-in-github",
        "colab_type": "text"
      },
      "source": [
        "<a href=\"https://colab.research.google.com/github/KRISHNPRIY2820/100-days-of-code-youtube/blob/main/Numpy_ai_camp.ipynb\" target=\"_parent\"><img src=\"https://colab.research.google.com/assets/colab-badge.svg\" alt=\"Open In Colab\"/></a>"
      ]
    },
    {
      "cell_type": "markdown",
      "source": [
        "###*Introduction*:\n",
        "Welcome to the NumPy tutorial! This session will help you understand how to work with NumPy, a powerful library for numerical computing in Python. We'll start with basic array operations and gradually move to more advanced topics like linear algebra and solving systems of equations.\n",
        "\n",
        "\n",
        "\n"
      ],
      "metadata": {
        "id": "SMtIfrWL7Nh-"
      }
    },
    {
      "cell_type": "code",
      "execution_count": null,
      "metadata": {
        "id": "fkfjlPUk5BWA"
      },
      "outputs": [],
      "source": [
        "import numpy as np"
      ]
    },
    {
      "cell_type": "code",
      "source": [
        "import random"
      ],
      "metadata": {
        "id": "eNC995NUMVMv"
      },
      "execution_count": null,
      "outputs": []
    },
    {
      "cell_type": "markdown",
      "source": [
        "###Question 0: list vs Array"
      ],
      "metadata": {
        "id": "iYA5NpwgUSEP"
      }
    },
    {
      "cell_type": "code",
      "source": [
        "X=np.array([1,2,3,4])\n",
        "print(X)\n",
        "print(type(X))"
      ],
      "metadata": {
        "colab": {
          "base_uri": "https://localhost:8080/"
        },
        "id": "SYCzUJNfUII2",
        "outputId": "48e9c413-cdfa-42c9-e193-f96b6948d718"
      },
      "execution_count": null,
      "outputs": [
        {
          "output_type": "stream",
          "name": "stdout",
          "text": [
            "[1 2 3 4]\n",
            "<class 'numpy.ndarray'>\n"
          ]
        }
      ]
    },
    {
      "cell_type": "code",
      "source": [
        "Y=[1,2,3,4]\n",
        "print(Y)\n",
        "print(type(Y))"
      ],
      "metadata": {
        "colab": {
          "base_uri": "https://localhost:8080/"
        },
        "id": "sFAfTtmeUOAQ",
        "outputId": "d26ecf74-2da3-40ff-dea4-4231d960b2e8"
      },
      "execution_count": null,
      "outputs": [
        {
          "output_type": "stream",
          "name": "stdout",
          "text": [
            "[1, 2, 3, 4]\n",
            "<class 'list'>\n"
          ]
        }
      ]
    },
    {
      "cell_type": "markdown",
      "source": [
        "###Question 1: Creating Basic Arrays"
      ],
      "metadata": {
        "id": "AxOupIIc8Orx"
      }
    },
    {
      "cell_type": "code",
      "source": [
        "#Q1.1 How do create an array using NumPy?"
      ],
      "metadata": {
        "id": "cr7tBsKo8Vc5"
      },
      "execution_count": null,
      "outputs": []
    },
    {
      "cell_type": "code",
      "source": [
        "array1 = np.array([1, 2, 3, 4])"
      ],
      "metadata": {
        "id": "mrQW__CF8a3j"
      },
      "execution_count": null,
      "outputs": []
    },
    {
      "cell_type": "code",
      "source": [
        "print(\"Array 1:\", array1)"
      ],
      "metadata": {
        "id": "ebEIfzfQ8hUE",
        "collapsed": true,
        "colab": {
          "base_uri": "https://localhost:8080/"
        },
        "outputId": "80c17221-5276-4ee2-bee8-523dea384d1c"
      },
      "execution_count": null,
      "outputs": [
        {
          "output_type": "stream",
          "name": "stdout",
          "text": [
            "Array 1: [1 2 3 4]\n"
          ]
        }
      ]
    },
    {
      "cell_type": "code",
      "source": [
        "#Q1.2: How do you create a 2x2 matrix with elements [[1, 2], [3, 4]] using NumPy?"
      ],
      "metadata": {
        "id": "9gDcmCQ38lyo"
      },
      "execution_count": null,
      "outputs": []
    },
    {
      "cell_type": "code",
      "source": [
        "array2 = np.array([[1, 2], [3, 4]])"
      ],
      "metadata": {
        "id": "nqHzCgCv8sJa"
      },
      "execution_count": null,
      "outputs": []
    },
    {
      "cell_type": "code",
      "source": [
        "print(\"Array 2:\", array2)"
      ],
      "metadata": {
        "id": "hqBy5ElV8zhT",
        "collapsed": true,
        "colab": {
          "base_uri": "https://localhost:8080/"
        },
        "outputId": "942545da-a7f8-46a2-9179-98974c7e89c1"
      },
      "execution_count": null,
      "outputs": [
        {
          "output_type": "stream",
          "name": "stdout",
          "text": [
            "Array 2: [[1 2]\n",
            " [3 4]]\n"
          ]
        }
      ]
    },
    {
      "cell_type": "code",
      "source": [
        "print(array2.ndim)"
      ],
      "metadata": {
        "colab": {
          "base_uri": "https://localhost:8080/"
        },
        "id": "RK-bCr99VzH_",
        "outputId": "4df82eaa-de7e-40c5-a554-2c65bb130eeb"
      },
      "execution_count": null,
      "outputs": [
        {
          "output_type": "stream",
          "name": "stdout",
          "text": [
            "2\n"
          ]
        }
      ]
    },
    {
      "cell_type": "code",
      "source": [
        "print(array2.shape)"
      ],
      "metadata": {
        "colab": {
          "base_uri": "https://localhost:8080/"
        },
        "id": "EIVpfoeyceJo",
        "outputId": "7e74bc82-c6f5-4855-a4e9-341067d7aff7"
      },
      "execution_count": null,
      "outputs": [
        {
          "output_type": "stream",
          "name": "stdout",
          "text": [
            "(2, 2)\n"
          ]
        }
      ]
    },
    {
      "cell_type": "code",
      "source": [
        "#Q1.3: How do you create a 3x3 array of zeros using NumPy?"
      ],
      "metadata": {
        "id": "v0oynx7883rm"
      },
      "execution_count": null,
      "outputs": []
    },
    {
      "cell_type": "code",
      "source": [
        "array3 = np.zeros((3, 3))"
      ],
      "metadata": {
        "id": "P0v-kslL8-_E"
      },
      "execution_count": null,
      "outputs": []
    },
    {
      "cell_type": "code",
      "source": [
        "print(\"Array 3:\", array3)"
      ],
      "metadata": {
        "id": "OLMu-1hU9CXN",
        "colab": {
          "base_uri": "https://localhost:8080/"
        },
        "outputId": "d52ea4c3-2a05-424d-c795-5e68621ca160"
      },
      "execution_count": null,
      "outputs": [
        {
          "output_type": "stream",
          "name": "stdout",
          "text": [
            "Array 3: [[0. 0. 0.]\n",
            " [0. 0. 0.]\n",
            " [0. 0. 0.]]\n"
          ]
        }
      ]
    },
    {
      "cell_type": "code",
      "source": [
        "#Q1.4: How do you create a 2x4 array of ones using NumPy?"
      ],
      "metadata": {
        "id": "us1Dajlw9GHN"
      },
      "execution_count": null,
      "outputs": []
    },
    {
      "cell_type": "code",
      "source": [
        "array4 = np.ones((2, 4))"
      ],
      "metadata": {
        "id": "sVV0pEgL9Lay"
      },
      "execution_count": null,
      "outputs": []
    },
    {
      "cell_type": "code",
      "source": [
        "print(\"Array 4:\", array4)"
      ],
      "metadata": {
        "id": "2dnxPCU29N20"
      },
      "execution_count": null,
      "outputs": []
    },
    {
      "cell_type": "code",
      "source": [
        "#Q1.5: How do you create a 3x3 identity matrix?"
      ],
      "metadata": {
        "id": "ZHbLFcWSOtSl"
      },
      "execution_count": null,
      "outputs": []
    },
    {
      "cell_type": "code",
      "source": [
        "# Create a 3x3 identity matrix\n",
        "identity_matrix = np.eye(3)\n",
        "\n",
        "print(identity_matrix)"
      ],
      "metadata": {
        "colab": {
          "base_uri": "https://localhost:8080/"
        },
        "id": "mvWuIdaqPJrW",
        "outputId": "39f2984c-19a9-40a9-d2b6-ba2882d07da4"
      },
      "execution_count": null,
      "outputs": [
        {
          "output_type": "stream",
          "name": "stdout",
          "text": [
            "[[1. 0. 0.]\n",
            " [0. 1. 0.]\n",
            " [0. 0. 1.]]\n"
          ]
        }
      ]
    },
    {
      "cell_type": "code",
      "source": [
        "#Q1.6 Generate 5 evenly spaced numbers between 0 and 10?"
      ],
      "metadata": {
        "id": "2Nm_GcaDXbmn"
      },
      "execution_count": null,
      "outputs": []
    },
    {
      "cell_type": "code",
      "source": [
        "arr = np.linspace(0, 10, 5)\n",
        "print(arr)"
      ],
      "metadata": {
        "colab": {
          "base_uri": "https://localhost:8080/"
        },
        "id": "SSKzxfDAXgDS",
        "outputId": "131ed2ae-e5c6-47cc-9124-5bca15b02676"
      },
      "execution_count": null,
      "outputs": [
        {
          "output_type": "stream",
          "name": "stdout",
          "text": [
            "[ 0.   2.5  5.   7.5 10. ]\n"
          ]
        }
      ]
    },
    {
      "cell_type": "code",
      "source": [
        "#Q1.7Generate 5 random integers from 5 to 20?"
      ],
      "metadata": {
        "id": "VOb_MvTEYS-B"
      },
      "execution_count": null,
      "outputs": []
    },
    {
      "cell_type": "code",
      "source": [
        "random_int=np.random.randint(5,20,5)\n",
        "print(random_int)"
      ],
      "metadata": {
        "colab": {
          "base_uri": "https://localhost:8080/"
        },
        "id": "D5cOzVFQYtdf",
        "outputId": "8906891e-ba01-4a0c-befa-5b157b2f519a"
      },
      "execution_count": null,
      "outputs": [
        {
          "output_type": "stream",
          "name": "stdout",
          "text": [
            "[14  8  7  5 12]\n"
          ]
        }
      ]
    },
    {
      "cell_type": "code",
      "source": [
        "#Q1.8 What is the data  type of arrary [1 2 3 4]"
      ],
      "metadata": {
        "id": "JB-wHijKZrIq"
      },
      "execution_count": null,
      "outputs": []
    },
    {
      "cell_type": "code",
      "source": [
        "arr=np.array([1,2,3,4])"
      ],
      "metadata": {
        "id": "91QK90VsaXfA"
      },
      "execution_count": null,
      "outputs": []
    },
    {
      "cell_type": "code",
      "source": [
        "print(\"data type\",arr.dtype)"
      ],
      "metadata": {
        "colab": {
          "base_uri": "https://localhost:8080/"
        },
        "id": "b4tsC1YRahmI",
        "outputId": "04693234-6c18-4ce2-97a6-1bfed3fac67c"
      },
      "execution_count": null,
      "outputs": [
        {
          "output_type": "stream",
          "name": "stdout",
          "text": [
            "data type int64\n"
          ]
        }
      ]
    },
    {
      "cell_type": "code",
      "source": [
        "#Q1.9 convert the above data type into float"
      ],
      "metadata": {
        "id": "Sj_pwzzlbE2y"
      },
      "execution_count": null,
      "outputs": []
    },
    {
      "cell_type": "code",
      "source": [
        "new=np.float32(arr)\n",
        "print(\"new_data_type\",new.dtype)\n",
        "print(new)"
      ],
      "metadata": {
        "colab": {
          "base_uri": "https://localhost:8080/"
        },
        "id": "cE7UGSaPbLhr",
        "outputId": "439c8179-cacb-471c-d191-2b6b1fb48405"
      },
      "execution_count": null,
      "outputs": [
        {
          "output_type": "stream",
          "name": "stdout",
          "text": [
            "new_data_type float32\n",
            "[1. 2. 3. 4.]\n"
          ]
        }
      ]
    },
    {
      "cell_type": "markdown",
      "source": [
        "###Question 2: Element-wise Operations"
      ],
      "metadata": {
        "id": "BuSejYzL9TzM"
      }
    },
    {
      "cell_type": "code",
      "source": [
        "#Q2.1: Create two 1D arrays a = [1, 2, 3] and b = [4, 5, 6]. Perform element-wise addition, subtraction, multiplication, and division."
      ],
      "metadata": {
        "id": "AaxU12DM9RFU"
      },
      "execution_count": null,
      "outputs": []
    },
    {
      "cell_type": "code",
      "source": [
        "a = np.array([1, 2, 3])\n",
        "b = np.array([4, 5, 6])"
      ],
      "metadata": {
        "id": "T5FSFa5G9ZZR"
      },
      "execution_count": null,
      "outputs": []
    },
    {
      "cell_type": "code",
      "source": [
        "# Element-wise addition\n",
        "print(\"a + b:\", a + b)"
      ],
      "metadata": {
        "id": "TBwy8sPc9dMD"
      },
      "execution_count": null,
      "outputs": []
    },
    {
      "cell_type": "code",
      "source": [
        "# Element-wise subtraction\n",
        "print(\"a - b:\", a - b)"
      ],
      "metadata": {
        "id": "YMHd4zjf9hMy"
      },
      "execution_count": null,
      "outputs": []
    },
    {
      "cell_type": "code",
      "source": [
        "# Element-wise multiplication\n",
        "print(\"a * b:\", a * b)"
      ],
      "metadata": {
        "id": "c4v0eAWx9j9I"
      },
      "execution_count": null,
      "outputs": []
    },
    {
      "cell_type": "code",
      "source": [
        "# Element-wise division\n",
        "print(\"a / b:\", a / b)"
      ],
      "metadata": {
        "id": "dxYWgw639m_4"
      },
      "execution_count": null,
      "outputs": []
    },
    {
      "cell_type": "code",
      "source": [
        "#Q2.2: Create two 2D arrays a = [[1, 2, 3],[8,9,10]] and b =[[4, 5, 6],[1,0,3]]. Perform element-wise addition."
      ],
      "metadata": {
        "id": "jPxexnQJeiT6"
      },
      "execution_count": null,
      "outputs": []
    },
    {
      "cell_type": "code",
      "source": [
        "a = np.array([[1, 2, 3],[8,9,10]])\n",
        "b =np.array([[4, 5, 6],[1,0,3]])\n",
        "# Element-wise addition\n",
        "print(\"a + b:\", a * b)"
      ],
      "metadata": {
        "colab": {
          "base_uri": "https://localhost:8080/"
        },
        "id": "T74Jz4XBe4B7",
        "outputId": "9518ec5d-5813-484b-8c4c-ab3f05083d00"
      },
      "execution_count": null,
      "outputs": [
        {
          "output_type": "stream",
          "name": "stdout",
          "text": [
            "a + b: [[ 4 10 18]\n",
            " [ 8  0 30]]\n"
          ]
        }
      ]
    },
    {
      "cell_type": "markdown",
      "source": [
        "##Question 3: Mathematical Functions"
      ],
      "metadata": {
        "id": "-nhuh55n9sQa"
      }
    },
    {
      "cell_type": "code",
      "source": [
        "#Q3.1: Calculate the sine, exponential, and square root of the array a = [1, 2, 3]."
      ],
      "metadata": {
        "id": "1_39q4Nq9uJI"
      },
      "execution_count": null,
      "outputs": []
    },
    {
      "cell_type": "code",
      "source": [
        "a = np.array([1, 2, 3])"
      ],
      "metadata": {
        "id": "MqNTrHa99yf4"
      },
      "execution_count": null,
      "outputs": []
    },
    {
      "cell_type": "code",
      "source": [
        "# Sine of each element\n",
        "print(\"sin(a):\", np.sin(a))"
      ],
      "metadata": {
        "id": "mVbFaihR93CZ"
      },
      "execution_count": null,
      "outputs": []
    },
    {
      "cell_type": "code",
      "source": [
        "# Exponential of each element\n",
        "print(\"exp(a):\", np.exp(a))\n"
      ],
      "metadata": {
        "id": "U1Qw7ave95GE"
      },
      "execution_count": null,
      "outputs": []
    },
    {
      "cell_type": "code",
      "source": [
        "# Square root of each element\n",
        "print(\"sqrt(a):\", np.sqrt(a))"
      ],
      "metadata": {
        "id": "whCFQk1t97qN"
      },
      "execution_count": null,
      "outputs": []
    },
    {
      "cell_type": "code",
      "source": [
        "#Q3.2: Calculate the min and max of the array a = [1, 2, 3]."
      ],
      "metadata": {
        "id": "Vw46sERTfjNj"
      },
      "execution_count": null,
      "outputs": []
    },
    {
      "cell_type": "code",
      "source": [
        "a=np.array([1,2,3])\n",
        "max=np.max(a)\n",
        "min=np.min(a)\n",
        "print(\"max\",max)\n",
        "print(\"min\",min)"
      ],
      "metadata": {
        "colab": {
          "base_uri": "https://localhost:8080/"
        },
        "id": "TRDxv6l3fsCb",
        "outputId": "55ed3aa3-dd14-43cb-d295-7b00fb8884cd"
      },
      "execution_count": null,
      "outputs": [
        {
          "output_type": "stream",
          "name": "stdout",
          "text": [
            "max 3\n",
            "min 1\n"
          ]
        }
      ]
    },
    {
      "cell_type": "markdown",
      "source": [
        "###Question 4: Linear Algebra Operations"
      ],
      "metadata": {
        "id": "hMuKJ7MX-BnX"
      }
    },
    {
      "cell_type": "code",
      "source": [
        "#Q4.1: Create two 2x2 matrices a = [[1, 2], [3, 4]] and b = [[5, 6], [7, 8]]. Compute their dot product, matrix multiplication, transpose of a, and the inverse of a."
      ],
      "metadata": {
        "id": "FQ4GEryQ-Fb8"
      },
      "execution_count": null,
      "outputs": []
    },
    {
      "cell_type": "code",
      "source": [
        "a = np.array([[1, 2], [3, 4]])\n",
        "b = np.array([[5, 6], [7, 8]])"
      ],
      "metadata": {
        "id": "TdzFzRru9_wQ"
      },
      "execution_count": null,
      "outputs": []
    },
    {
      "cell_type": "code",
      "source": [
        "# Dot product\n",
        "print(\"Dot product:\\n\", np.dot(a, b))"
      ],
      "metadata": {
        "id": "rWk6Ij-p-Om_"
      },
      "execution_count": null,
      "outputs": []
    },
    {
      "cell_type": "code",
      "source": [
        "# Matrix multiplication\n",
        "print(\"Matrix multiplication (a @ b):\\n\", a @ b)"
      ],
      "metadata": {
        "id": "zJUt6Juz-RqM"
      },
      "execution_count": null,
      "outputs": []
    },
    {
      "cell_type": "code",
      "source": [
        "# Transpose of a\n",
        "print(\"Transpose of a:\\n\", a.T)"
      ],
      "metadata": {
        "id": "ZhrM7y5W-VXn"
      },
      "execution_count": null,
      "outputs": []
    },
    {
      "cell_type": "code",
      "source": [
        "# Inverse of a\n",
        "a_inv = np.linalg.inv(a)\n",
        "print(\"Inverse of a:\\n\", a_inv)"
      ],
      "metadata": {
        "id": "jfQrnvC2-YZa"
      },
      "execution_count": null,
      "outputs": []
    },
    {
      "cell_type": "markdown",
      "source": [
        "###Question 5: Eigenvalues and Eigenvectors"
      ],
      "metadata": {
        "id": "HLStpIcj-h0N"
      }
    },
    {
      "cell_type": "code",
      "source": [
        "#Q5.1: Find the eigenvalues and eigenvectors of the matrix a = [[1, 2], [3, 4]]."
      ],
      "metadata": {
        "id": "yHf_p9ZE-jTW"
      },
      "execution_count": null,
      "outputs": []
    },
    {
      "cell_type": "code",
      "source": [
        "a = np.array([[1, 2], [3, 4]])"
      ],
      "metadata": {
        "id": "pPg53TCB-mTP"
      },
      "execution_count": null,
      "outputs": []
    },
    {
      "cell_type": "code",
      "source": [
        "# Eigenvalues and eigenvectors\n",
        "eigenvalues, eigenvectors = np.linalg.eig(a)\n",
        "print(\"Eigenvalues:\", eigenvalues)\n",
        "print(\"Eigenvectors:\\n\", eigenvectors)"
      ],
      "metadata": {
        "id": "DiTEFSS3-ouo"
      },
      "execution_count": null,
      "outputs": []
    },
    {
      "cell_type": "markdown",
      "source": [
        "###Question 6: Solving Linear Systems"
      ],
      "metadata": {
        "id": "3eW_csXU_CXJ"
      }
    },
    {
      "cell_type": "code",
      "source": [
        "#Q6.1: Solve the system of linear equations:\n",
        "#    {2x+3y=54x+y=11\n",
        "#    {2x+3y=54x+y=11​"
      ],
      "metadata": {
        "id": "e-WMcrK9_JkW"
      },
      "execution_count": null,
      "outputs": []
    },
    {
      "cell_type": "code",
      "source": [
        "# Coefficient matrix\n",
        "A = np.array([[2, 3], [4, 1]])"
      ],
      "metadata": {
        "id": "3WGKDoFf_ck_"
      },
      "execution_count": null,
      "outputs": []
    },
    {
      "cell_type": "code",
      "source": [
        "# Right-hand side vector\n",
        "b = np.array([5, 11])"
      ],
      "metadata": {
        "id": "Rdq3oA5w_hoP"
      },
      "execution_count": null,
      "outputs": []
    },
    {
      "cell_type": "code",
      "source": [
        "# Solve for x and y\n",
        "solution = np.linalg.solve(A, b)\n",
        "print(\"Solution:\", solution)"
      ],
      "metadata": {
        "id": "Nsb3W1Hn_krx"
      },
      "execution_count": null,
      "outputs": []
    },
    {
      "cell_type": "markdown",
      "source": [
        "###**Advanced NumPy**: Questions and Answers\n",
        "\n",
        "*Introduction*:\n",
        "This session extends your knowledge of NumPy with advanced operations such as reshaping arrays, broadcasting, statistical operations, and working with structured arrays."
      ],
      "metadata": {
        "id": "fJPvqivEA6_H"
      }
    },
    {
      "cell_type": "markdown",
      "source": [
        "###Question 7: Reshaping and Flattening Arrays"
      ],
      "metadata": {
        "id": "4t49yXJ4BTTR"
      }
    },
    {
      "cell_type": "code",
      "source": [
        "#Q7.1: Create a 1D array of the first 12 natural numbers and reshape it into a 3x4 matrix."
      ],
      "metadata": {
        "id": "Yi-EFmFgArn-"
      },
      "execution_count": null,
      "outputs": []
    },
    {
      "cell_type": "code",
      "source": [
        "# Create a 1D array of the first 12 natural numbers\n",
        "array1d = np.arange(1, 13)\n",
        "print(\"1D array:\", array1d)"
      ],
      "metadata": {
        "id": "O9invqDGB0Sz",
        "colab": {
          "base_uri": "https://localhost:8080/"
        },
        "outputId": "572c40dd-9194-4d76-f2a1-e5c02f193a9f"
      },
      "execution_count": null,
      "outputs": [
        {
          "output_type": "stream",
          "name": "stdout",
          "text": [
            "1D array: [ 1  2  3  4  5  6  7  8  9 10 11 12]\n"
          ]
        }
      ]
    },
    {
      "cell_type": "code",
      "source": [
        "# Reshape the 1D array into a 3x4 matrix\n",
        "array2d = array1d.reshape((3, 4))\n",
        "print(\"3x4 matrix:\\n\", array2d)"
      ],
      "metadata": {
        "id": "2p82dPziB3Iz",
        "colab": {
          "base_uri": "https://localhost:8080/"
        },
        "outputId": "605ad1be-bef9-4d2e-f727-c1da11c36ef4"
      },
      "execution_count": null,
      "outputs": [
        {
          "output_type": "stream",
          "name": "stdout",
          "text": [
            "3x4 matrix:\n",
            " [[ 1  2  3  4]\n",
            " [ 5  6  7  8]\n",
            " [ 9 10 11 12]]\n"
          ]
        }
      ]
    },
    {
      "cell_type": "code",
      "source": [
        "#Q7.2: Flatten the 3x4 matrix back into a 1D array."
      ],
      "metadata": {
        "id": "ugs1YuyMB5iJ"
      },
      "execution_count": null,
      "outputs": []
    },
    {
      "cell_type": "code",
      "source": [
        "# Flatten the 3x4 matrix back into a 1D array\n",
        "flattened_array = array2d.flatten()\n",
        "print(\"Flattened array:\", flattened_array)"
      ],
      "metadata": {
        "id": "bohxEjRNB9_T",
        "colab": {
          "base_uri": "https://localhost:8080/"
        },
        "outputId": "728353f7-24ee-40f0-cfa3-ad83b9872612"
      },
      "execution_count": null,
      "outputs": [
        {
          "output_type": "stream",
          "name": "stdout",
          "text": [
            "Flattened array: [ 1  2  3  4  5  6  7  8  9 10 11 12]\n"
          ]
        }
      ]
    },
    {
      "cell_type": "markdown",
      "source": [
        "###Question 8: Broadcasting"
      ],
      "metadata": {
        "id": "PmeBt3HvCHGb"
      }
    },
    {
      "cell_type": "markdown",
      "source": [
        "**concept**:\n",
        "When operating on two arrays, NumPy compares their shapes element-wise. It starts with the trailing dimensions and works its way forward. Two dimensions are compatible for broadcasting if:\n",
        "\n",
        "1.They are equal.\n",
        "\n",
        "2.One of them is 1.\n",
        "\n",
        "If these conditions are met, NumPy will virtually replicate the smaller array along the dimension(s) where it is 1 to match the larger array, enabling element-wise operations.\n"
      ],
      "metadata": {
        "id": "2LxjtJpahiCK"
      }
    },
    {
      "cell_type": "code",
      "source": [
        "'''a = np.array([1, 2, 3,4])\n",
        "b = np.array([1, 2, 3])\n",
        "result = a + b\n",
        "print(result)'''\n"
      ],
      "metadata": {
        "colab": {
          "base_uri": "https://localhost:8080/",
          "height": 36
        },
        "id": "9KBs5Nx0g8pz",
        "outputId": "3d2de4e9-23ae-4d2c-d145-02d538ebb8f1"
      },
      "execution_count": null,
      "outputs": [
        {
          "output_type": "execute_result",
          "data": {
            "text/plain": [
              "'a = np.array([1, 2, 3,4])\\nb = np.array([1, 2, 3])\\nresult = a + b\\nprint(result)'"
            ],
            "application/vnd.google.colaboratory.intrinsic+json": {
              "type": "string"
            }
          },
          "metadata": {},
          "execution_count": 51
        }
      ]
    },
    {
      "cell_type": "code",
      "source": [
        "#Q8.1: Create a 3x3 matrix of ones and add a 1D array of [1, 2, 3] to it using broadcasting."
      ],
      "metadata": {
        "id": "ADA_8JbvCGd7"
      },
      "execution_count": null,
      "outputs": []
    },
    {
      "cell_type": "code",
      "source": [
        "# Create a 3x3 matrix of ones\n",
        "matrix = np.ones((3, 3))\n",
        "print(\"3x3 matrix of ones:\\n\", matrix)"
      ],
      "metadata": {
        "id": "lepE8bHQEH_w",
        "colab": {
          "base_uri": "https://localhost:8080/"
        },
        "outputId": "44f459df-c02e-4d9f-a74a-187d9faa7028"
      },
      "execution_count": null,
      "outputs": [
        {
          "output_type": "stream",
          "name": "stdout",
          "text": [
            "3x3 matrix of ones:\n",
            " [[1. 1. 1.]\n",
            " [1. 1. 1.]\n",
            " [1. 1. 1.]]\n"
          ]
        }
      ]
    },
    {
      "cell_type": "code",
      "source": [
        "# Create a 1D array\n",
        "array1d = np.array([1, 2, 3])\n",
        "print(\"1D array:\", array1d)"
      ],
      "metadata": {
        "id": "iT4iBYvBEI-I",
        "colab": {
          "base_uri": "https://localhost:8080/"
        },
        "outputId": "784d6803-9f89-4c4a-980d-bccb89f7fbea"
      },
      "execution_count": null,
      "outputs": [
        {
          "output_type": "stream",
          "name": "stdout",
          "text": [
            "1D array: [1 2 3]\n"
          ]
        }
      ]
    },
    {
      "cell_type": "code",
      "source": [
        "# Add the 1D array to the 3x3 matrix using broadcasting\n",
        "result = matrix + array1d\n",
        "print(\"Result after broadcasting:\\n\", result)"
      ],
      "metadata": {
        "id": "ZyqjD_DgEKlN",
        "colab": {
          "base_uri": "https://localhost:8080/"
        },
        "outputId": "f38d58e7-0add-488b-a637-4fc5784a8c3e"
      },
      "execution_count": null,
      "outputs": [
        {
          "output_type": "stream",
          "name": "stdout",
          "text": [
            "Result after broadcasting:\n",
            " [[2. 3. 4.]\n",
            " [2. 3. 4.]\n",
            " [2. 3. 4.]]\n"
          ]
        }
      ]
    },
    {
      "cell_type": "markdown",
      "source": [
        "###Question 9: Statistical Operations"
      ],
      "metadata": {
        "id": "JWYS-kvHEVoe"
      }
    },
    {
      "cell_type": "code",
      "source": [
        "#Q9.1: Compute the mean, median, and standard deviation of an array [1, 2, 3, 4, 5, 6, 7, 8, 9, 10]."
      ],
      "metadata": {
        "id": "WK2vcS8sES4j"
      },
      "execution_count": null,
      "outputs": []
    },
    {
      "cell_type": "code",
      "source": [
        "# Create an array\n",
        "array = np.array([1, 2, 3, 4, 5, 6, 7, 8, 9, 10])\n"
      ],
      "metadata": {
        "id": "aLwDUW8pEeGO"
      },
      "execution_count": null,
      "outputs": []
    },
    {
      "cell_type": "code",
      "source": [
        "# Compute the mean\n",
        "mean_value = np.mean(array)\n",
        "print(\"Mean:\", mean_value)"
      ],
      "metadata": {
        "id": "qZbI0gglEjA8"
      },
      "execution_count": null,
      "outputs": []
    },
    {
      "cell_type": "code",
      "source": [
        "# Compute the median\n",
        "median_value = np.median(array)\n",
        "print(\"Median:\", median_value)"
      ],
      "metadata": {
        "id": "jvMwV4cHEl47"
      },
      "execution_count": null,
      "outputs": []
    },
    {
      "cell_type": "code",
      "source": [
        "# Compute the standard deviation\n",
        "std_deviation = np.std(array)\n",
        "print(\"Standard Deviation:\", std_deviation)"
      ],
      "metadata": {
        "id": "pfIwzSQeErfr"
      },
      "execution_count": null,
      "outputs": []
    },
    {
      "cell_type": "markdown",
      "source": [
        "###Question 10:Indexing and slicing"
      ],
      "metadata": {
        "id": "xbaiJVIAICYP"
      }
    },
    {
      "cell_type": "markdown",
      "source": [
        "*Indexing in Multidimensional NumPy Arrays*\n",
        "\n",
        "**Basic Indexing**:\n",
        "Basic indexing works similarly to Python lists.\n",
        "\n",
        "It’s 0-based, meaning the first element has an index of 0.\n",
        "\n",
        "You can use negative indices to index from the end of the array.\n",
        "\n",
        "**Basic slicing** extends Python’s concept of slicing to N dimensions.\n",
        "\n",
        "Syntax: array[start:end:step]"
      ],
      "metadata": {
        "id": "Z7Ic2ZAUI-Rx"
      }
    },
    {
      "cell_type": "code",
      "source": [
        "#10.1 find the number at index 2 in numpy array [1,2,8,4]"
      ],
      "metadata": {
        "id": "3LGPWwNGJdIi"
      },
      "execution_count": null,
      "outputs": []
    },
    {
      "cell_type": "code",
      "source": [
        "arr=np.array([1,2,8,4])\n",
        "print(arr[2])\n",
        "#or\n",
        "print(arr[-2])"
      ],
      "metadata": {
        "colab": {
          "base_uri": "https://localhost:8080/"
        },
        "id": "9ysyWZDOIN3W",
        "outputId": "9906ade4-426f-42f5-b21d-25c2b7f52bd8"
      },
      "execution_count": null,
      "outputs": [
        {
          "output_type": "stream",
          "name": "stdout",
          "text": [
            "8\n",
            "8\n"
          ]
        }
      ]
    },
    {
      "cell_type": "code",
      "source": [
        "#10.2 finding the number at index[0,2] in 2d array [[9,8,7],[4,5,6]]"
      ],
      "metadata": {
        "id": "IudBVMR9KhZZ"
      },
      "execution_count": null,
      "outputs": []
    },
    {
      "cell_type": "code",
      "source": [
        "var=np.array([[9,8,7],[4,5,6]])\n",
        "print(var[0,2])"
      ],
      "metadata": {
        "colab": {
          "base_uri": "https://localhost:8080/"
        },
        "id": "M7ry1WiPKb3-",
        "outputId": "67799ff8-aa63-4662-cd82-db67b106fb12"
      },
      "execution_count": null,
      "outputs": [
        {
          "output_type": "stream",
          "name": "stdout",
          "text": [
            "7\n"
          ]
        }
      ]
    },
    {
      "cell_type": "code",
      "source": [
        "#10.3 find the number at index[0,1,1] in array[[[1,2],[6,7]]]"
      ],
      "metadata": {
        "id": "SnZsBv43KeHu"
      },
      "execution_count": null,
      "outputs": []
    },
    {
      "cell_type": "code",
      "source": [
        "var=np.array([[[1,2],[6,7]]])\n",
        "print(var[0,1,1])"
      ],
      "metadata": {
        "colab": {
          "base_uri": "https://localhost:8080/"
        },
        "id": "L_N4PwQ5L_G4",
        "outputId": "95efe55a-3eaa-4204-b91e-37a41c4a638f"
      },
      "execution_count": null,
      "outputs": [
        {
          "output_type": "stream",
          "name": "stdout",
          "text": [
            "7\n"
          ]
        }
      ]
    },
    {
      "cell_type": "code",
      "source": [
        "#10.4 If array is [0, 1, 2, 3, 4, 5] slice, it with index 1,3,5"
      ],
      "metadata": {
        "id": "lG94onpwMbfA"
      },
      "execution_count": null,
      "outputs": []
    },
    {
      "cell_type": "code",
      "source": [
        "arr = np.array([0, 1, 2, 3, 4, 5])\n",
        "arr[1:6:2] #6 is important\n",
        "#arr[1:]\n"
      ],
      "metadata": {
        "colab": {
          "base_uri": "https://localhost:8080/"
        },
        "id": "rhiDTwznNMW6",
        "outputId": "54d77b7f-666e-487e-b25e-2c03ee8351bd"
      },
      "execution_count": null,
      "outputs": [
        {
          "output_type": "execute_result",
          "data": {
            "text/plain": [
              "array([1, 2, 3, 4, 5])"
            ]
          },
          "metadata": {},
          "execution_count": 16
        }
      ]
    },
    {
      "cell_type": "code",
      "source": [
        "#10.5 using slicing,slice ([[2, 3],[5, 6]]) from [[1, 2, 3], [4, 5, 6], [7, 8, 9]]"
      ],
      "metadata": {
        "id": "siJJjgpcPg9n"
      },
      "execution_count": null,
      "outputs": []
    },
    {
      "cell_type": "code",
      "source": [
        "#For 2-D arrays, you can slice along both rows and columns.\n",
        "#To extract a subarray, use array[start_row:end_row, start_col:end_col].\n"
      ],
      "metadata": {
        "id": "r1c0krMWO96m"
      },
      "execution_count": null,
      "outputs": []
    },
    {
      "cell_type": "code",
      "source": [
        "mat = np.array([[1, 2, 3], [4, 5, 6], [7, 8, 9]])\n",
        "mat[0:2, 1:3]"
      ],
      "metadata": {
        "colab": {
          "base_uri": "https://localhost:8080/"
        },
        "id": "CRK_pe2DNlT1",
        "outputId": "7d695b71-c043-4f26-931a-552df94c4a34"
      },
      "execution_count": null,
      "outputs": [
        {
          "output_type": "execute_result",
          "data": {
            "text/plain": [
              "array([[2, 3],\n",
              "       [5, 6]])"
            ]
          },
          "metadata": {},
          "execution_count": 17
        }
      ]
    },
    {
      "cell_type": "markdown",
      "source": [
        "###**Working with 3D NumPy Arrays**: Questions and Answers\n",
        "\n",
        "*Introduction*:\n",
        "This session will help you understand how to work with 3D NumPy arrays. We'll cover creating 3D arrays, slicing, reshaping, performing operations, and using various functions."
      ],
      "metadata": {
        "id": "naTaeNrIKhqp"
      }
    },
    {
      "cell_type": "markdown",
      "source": [
        "**Creating 3D Arrays**"
      ],
      "metadata": {
        "id": "BPICH5G2Kr6o"
      }
    },
    {
      "cell_type": "code",
      "source": [
        "#Q23.1: Create a 3x3x3 3D array with random values."
      ],
      "metadata": {
        "id": "U-LQAbEPKqHS"
      },
      "execution_count": null,
      "outputs": []
    },
    {
      "cell_type": "code",
      "source": [
        "# Create a 3x3x3 3D array with random values\n",
        "array_3d = np.random.rand(3, 3, 3)\n",
        "print(\"3x3x3 3D array with random values:\\n\", array_3d)"
      ],
      "metadata": {
        "id": "lkVuyaIAKyvl"
      },
      "execution_count": null,
      "outputs": []
    },
    {
      "cell_type": "markdown",
      "source": [
        "**Slicing 3D Arrays**"
      ],
      "metadata": {
        "id": "iHwiWGraLG5z"
      }
    },
    {
      "cell_type": "code",
      "source": [
        "#Given a 3D array array_3d = np.arange(27).reshape((3, 3, 3)), extract the first 2x2x2 subarray."
      ],
      "metadata": {
        "id": "-ZopRplpK47B"
      },
      "execution_count": null,
      "outputs": []
    },
    {
      "cell_type": "code",
      "source": [
        "# Create a 3D array\n",
        "array_3d = np.arange(27).reshape((3, 3, 3))\n",
        "print(\"Original 3D array:\\n\", array_3d)"
      ],
      "metadata": {
        "id": "VyHYVoR4LQzw"
      },
      "execution_count": null,
      "outputs": []
    },
    {
      "cell_type": "code",
      "source": [
        "# Extract the first 2x2x2 subarray\n",
        "subarray = array_3d[:2, :2, :2]\n",
        "print(\"First 2x2x2 subarray:\\n\", subarray)"
      ],
      "metadata": {
        "id": "QnFYK-JdLTdE"
      },
      "execution_count": null,
      "outputs": []
    },
    {
      "cell_type": "markdown",
      "source": [
        "**Reshaping 3D Arrays**"
      ],
      "metadata": {
        "id": "6y0w_4TWLfir"
      }
    },
    {
      "cell_type": "code",
      "source": [
        "#Reshape a 3D array array_3d = np.arange(27).reshape((3, 3, 3)) into a 1D array."
      ],
      "metadata": {
        "id": "XTQaY83-Lk2W"
      },
      "execution_count": null,
      "outputs": []
    },
    {
      "cell_type": "code",
      "source": [
        "# Create a 3D array\n",
        "array_3d = np.arange(27).reshape((3, 3, 3))\n",
        "print(\"Original 3D array:\\n\", array_3d)\n"
      ],
      "metadata": {
        "id": "AjTWHxLALiTw",
        "colab": {
          "base_uri": "https://localhost:8080/"
        },
        "outputId": "2c07e7d1-fae7-4021-bfcf-52ccf7feb4bd"
      },
      "execution_count": null,
      "outputs": [
        {
          "output_type": "stream",
          "name": "stdout",
          "text": [
            "Original 3D array:\n",
            " [[[ 0  1  2]\n",
            "  [ 3  4  5]\n",
            "  [ 6  7  8]]\n",
            "\n",
            " [[ 9 10 11]\n",
            "  [12 13 14]\n",
            "  [15 16 17]]\n",
            "\n",
            " [[18 19 20]\n",
            "  [21 22 23]\n",
            "  [24 25 26]]]\n"
          ]
        }
      ]
    },
    {
      "cell_type": "code",
      "source": [
        "# Reshape the 3D array into a 1D array\n",
        "array_1d = array_3d.reshape(-1)\n",
        "print(\"Reshaped 1D array:\", array_1d)"
      ],
      "metadata": {
        "id": "CSQAyvnRLpyX",
        "colab": {
          "base_uri": "https://localhost:8080/"
        },
        "outputId": "4abccfb3-2cca-4d4d-944d-cbcf58478733"
      },
      "execution_count": null,
      "outputs": [
        {
          "output_type": "stream",
          "name": "stdout",
          "text": [
            "Reshaped 1D array: [ 0  1  2  3  4  5  6  7  8  9 10 11 12 13 14 15 16 17 18 19 20 21 22 23\n",
            " 24 25 26]\n"
          ]
        }
      ]
    },
    {
      "cell_type": "markdown",
      "source": [
        "**Indexing 3D Arrays**"
      ],
      "metadata": {
        "id": "3wJCKIcpL1mP"
      }
    },
    {
      "cell_type": "code",
      "source": [
        "# Access the element at position (2, 1, 0) in a 3x3x3 array."
      ],
      "metadata": {
        "id": "CtviMHzUL1Qd"
      },
      "execution_count": null,
      "outputs": []
    },
    {
      "cell_type": "code",
      "source": [
        "# Create a 3x3x3 array\n",
        "array_3d = np.arange(27).reshape((3, 3, 3))\n",
        "print(\"Original 3D array:\\n\", array_3d)\n",
        "\n",
        "# Access the element at position (2, 1, 0)\n",
        "element = array_3d[2, 1, 0]\n",
        "print(\"Element at position (2, 1, 0):\", element)\n"
      ],
      "metadata": {
        "id": "qpStLhNkLwZH"
      },
      "execution_count": null,
      "outputs": []
    },
    {
      "cell_type": "markdown",
      "source": [
        "**Summing Over Axes**"
      ],
      "metadata": {
        "id": "inaF301jMJi2"
      }
    },
    {
      "cell_type": "code",
      "source": [
        "#Sum the elements of a 3x3x3 array along the third axis."
      ],
      "metadata": {
        "id": "A0fuH4KtL9lL"
      },
      "execution_count": null,
      "outputs": []
    },
    {
      "cell_type": "code",
      "source": [
        "# Create a 3x3x3 array with random values\n",
        "array_3d = np.random.rand(3, 3, 3)\n",
        "print(\"Original 3D array:\\n\", array_3d)"
      ],
      "metadata": {
        "id": "LpGZLIMOMPhQ",
        "colab": {
          "base_uri": "https://localhost:8080/"
        },
        "outputId": "7d61c645-10e1-4815-e4e9-524e26527c8a"
      },
      "execution_count": null,
      "outputs": [
        {
          "output_type": "stream",
          "name": "stdout",
          "text": [
            "Original 3D array:\n",
            " [[[0.39016647 0.54855094 0.04921409]\n",
            "  [0.57067693 0.77896678 0.40089567]\n",
            "  [0.32441222 0.38315842 0.36977992]]\n",
            "\n",
            " [[0.49938692 0.25892774 0.76841737]\n",
            "  [0.82150514 0.02705974 0.99321945]\n",
            "  [0.89272779 0.08257666 0.09823982]]\n",
            "\n",
            " [[0.11636807 0.07015043 0.28683748]\n",
            "  [0.44564451 0.13673728 0.67578617]\n",
            "  [0.61849474 0.13557587 0.2234694 ]]]\n"
          ]
        }
      ]
    },
    {
      "cell_type": "code",
      "source": [
        "# Sum the elements along the third axis\n",
        "sum_along_axis = np.sum(array_3d, axis=0)\n",
        "print(\"Sum along the third axis:\\n\", sum_along_axis)"
      ],
      "metadata": {
        "colab": {
          "base_uri": "https://localhost:8080/"
        },
        "id": "YTWfg8ceVPHW",
        "outputId": "b3fff2b5-909c-4a19-cc6a-6d49263453a8"
      },
      "execution_count": null,
      "outputs": [
        {
          "output_type": "stream",
          "name": "stdout",
          "text": [
            "Sum along the third axis:\n",
            " [[1.00592146 0.87762911 1.10446894]\n",
            " [1.83782657 0.9427638  2.06990129]\n",
            " [1.83563475 0.60131095 0.69148914]]\n"
          ]
        }
      ]
    },
    {
      "cell_type": "markdown",
      "source": [
        "###High-level Concepts in Numpy"
      ],
      "metadata": {
        "id": "7txGrLbsWC_O"
      }
    },
    {
      "cell_type": "code",
      "source": [
        "a = np.arange(2*3*4).reshape(2,3,4)\n",
        "print(a)\n",
        "#a is a 3D array with shape (2, 3, 4).\n",
        "#The first dimension has size 2\n",
        "#The second dimension has size 3.\n",
        "#The third dimension has size 4."
      ],
      "metadata": {
        "colab": {
          "base_uri": "https://localhost:8080/"
        },
        "id": "_a5zr9MwWHHD",
        "outputId": "e390e66f-36a2-4fad-b454-cfd5b50b1819"
      },
      "execution_count": null,
      "outputs": [
        {
          "output_type": "stream",
          "name": "stdout",
          "text": [
            "[[[ 0  1  2  3]\n",
            "  [ 4  5  6  7]\n",
            "  [ 8  9 10 11]]\n",
            "\n",
            " [[12 13 14 15]\n",
            "  [16 17 18 19]\n",
            "  [20 21 22 23]]]\n"
          ]
        }
      ]
    },
    {
      "cell_type": "markdown",
      "source": [
        "**Sigmoid**\n",
        "Let's say a vector $x \\in \\mathbb{R}^n$. The sigmoid function is defined as:\n",
        "\n",
        "$\\operatorname{sigmoid}(x_i) = \\frac{1}{1 + e^{-x_{i}}} \\forall i$"
      ],
      "metadata": {
        "id": "cAA23vG2XOOr"
      }
    },
    {
      "cell_type": "code",
      "source": [
        "def sigmoid(a):\n",
        "  e = np.exp(-a)\n",
        "  return 1/(1+e)"
      ],
      "metadata": {
        "id": "oBKaRLFBW9t3"
      },
      "execution_count": null,
      "outputs": []
    },
    {
      "cell_type": "code",
      "source": [
        "sigmoid(a.ravel())"
      ],
      "metadata": {
        "colab": {
          "base_uri": "https://localhost:8080/"
        },
        "id": "_zjh9s8vXXvP",
        "outputId": "568fa03d-d9e2-4ee3-86d4-7d88fe56fed6"
      },
      "execution_count": null,
      "outputs": [
        {
          "output_type": "execute_result",
          "data": {
            "text/plain": [
              "array([0.5       , 0.73105858, 0.88079708, 0.95257413, 0.98201379,\n",
              "       0.99330715, 0.99752738, 0.99908895, 0.99966465, 0.99987661,\n",
              "       0.9999546 , 0.9999833 , 0.99999386, 0.99999774, 0.99999917,\n",
              "       0.99999969, 0.99999989, 0.99999996, 0.99999998, 0.99999999,\n",
              "       1.        , 1.        , 1.        , 1.        ])"
            ]
          },
          "metadata": {},
          "execution_count": 42
        }
      ]
    },
    {
      "cell_type": "markdown",
      "source": [
        "**Tanh**\n",
        "Let's say a vector $x \\in \\mathbb{R}^n$. The tanh function is defined as:\n",
        "\n",
        "$\\operatorname{tanh}(x_i) = \\frac{e^{2x_i} - 1}{e^{2x_i} + 1} \\forall i$"
      ],
      "metadata": {
        "id": "4H5e3NHWXa3L"
      }
    },
    {
      "cell_type": "code",
      "source": [
        "def tanh(a):\n",
        "  e = np.exp(2*a)\n",
        "  return (e - 1) / (e + 1)"
      ],
      "metadata": {
        "id": "9Q9bJRg8XfHe"
      },
      "execution_count": null,
      "outputs": []
    },
    {
      "cell_type": "code",
      "source": [],
      "metadata": {
        "id": "Jb100dIlXjRH"
      },
      "execution_count": null,
      "outputs": []
    },
    {
      "cell_type": "markdown",
      "source": [
        "**Softmax**\n",
        "Let's say a vector $x \\in \\mathbb{R}^n$. The softmax function is defined as:\n",
        "\n",
        "$\\operatorname{softmax}(x_i) = \\frac{e^{x_{i}}}{\\sum_{j}e^{x_{j}}} \\forall i$"
      ],
      "metadata": {
        "id": "3whvPuFJXouc"
      }
    },
    {
      "cell_type": "code",
      "source": [
        "def softmax(a):\n",
        "  e = np.exp(a)\n",
        "  return e / np.sum(e)"
      ],
      "metadata": {
        "id": "ytrPMuqXXrRD"
      },
      "execution_count": null,
      "outputs": []
    },
    {
      "cell_type": "code",
      "source": [
        "softmax(a.ravel())"
      ],
      "metadata": {
        "colab": {
          "base_uri": "https://localhost:8080/"
        },
        "id": "ti1xxbnmXuck",
        "outputId": "6334cf1c-7eec-4208-fe80-51cec3c313e9"
      },
      "execution_count": null,
      "outputs": [
        {
          "output_type": "execute_result",
          "data": {
            "text/plain": [
              "array([6.48674509e-11, 1.76328013e-10, 4.79309234e-10, 1.30289758e-09,\n",
              "       3.54164282e-09, 9.62718331e-09, 2.61693974e-08, 7.11357975e-08,\n",
              "       1.93367146e-07, 5.25626399e-07, 1.42880069e-06, 3.88388295e-06,\n",
              "       1.05574884e-05, 2.86982290e-05, 7.80098743e-05, 2.12052824e-04,\n",
              "       5.76419338e-04, 1.56687021e-03, 4.25919482e-03, 1.15776919e-02,\n",
              "       3.14714295e-02, 8.55482149e-02, 2.32544158e-01, 6.32120559e-01])"
            ]
          },
          "metadata": {},
          "execution_count": 45
        }
      ]
    },
    {
      "cell_type": "markdown",
      "source": [
        "**Root Mean Squared Error**\n",
        "\n",
        "Let's say a vectors $x,y \\in \\mathbb{R}^n$. The RMSE function is defined as:\n",
        "\n",
        "$\\operatorname{RMSE}(x,y) = \\sqrt{\\sum_i (x_i - y_i)^2}$"
      ],
      "metadata": {
        "id": "6JRZ8MKTXyhP"
      }
    },
    {
      "cell_type": "code",
      "source": [
        "def rmse(x,y):\n",
        "  return np.sqrt(np.sum((x-y)**2))"
      ],
      "metadata": {
        "id": "4CLSw4SRX5RM"
      },
      "execution_count": null,
      "outputs": []
    },
    {
      "cell_type": "markdown",
      "source": [
        "**Cross Entropy**\n",
        "\n",
        "Let's say a vectors $x,y \\in [0,1]^n$. The CrossEntropy function is defined as:\n",
        "\n",
        "$\\operatorname{CrossEntropy}(x,y) = - \\sum_i x_i \\log y_i$"
      ],
      "metadata": {
        "id": "fTtICbDmX9I8"
      }
    },
    {
      "cell_type": "code",
      "source": [
        "def cross_entropy(x,y):\n",
        "  return -np.sum(x * np.log(y))"
      ],
      "metadata": {
        "id": "n7XT9L1LYCOn"
      },
      "execution_count": null,
      "outputs": []
    },
    {
      "cell_type": "markdown",
      "source": [
        "###**Machine Learning with NumPy: Questions and Answers**"
      ],
      "metadata": {
        "id": "waVRUx6eFhre"
      }
    },
    {
      "cell_type": "markdown",
      "source": [
        "Shuffling Datasets"
      ],
      "metadata": {
        "id": "FnFgULpxGDgM"
      }
    },
    {
      "cell_type": "code",
      "source": [
        "#Shuffle the rows of a 2D array data = [[1, 2], [3, 4], [5, 6], [7, 8]]."
      ],
      "metadata": {
        "id": "skCtqv2HFr1R"
      },
      "execution_count": null,
      "outputs": []
    },
    {
      "cell_type": "code",
      "source": [
        "# Define the 2D array\n",
        "data = np.array([[1, 2], [3, 4], [5, 6], [7, 8]])"
      ],
      "metadata": {
        "id": "8XcyK4YnF5tF"
      },
      "execution_count": null,
      "outputs": []
    },
    {
      "cell_type": "markdown",
      "source": [
        "Generating Synthetic Data"
      ],
      "metadata": {
        "id": "wFnGE2otGa52"
      }
    },
    {
      "cell_type": "code",
      "source": [
        "#Generate a synthetic dataset with 100 samples, each having 3 features."
      ],
      "metadata": {
        "id": "w-4ZiejEGZnQ"
      },
      "execution_count": null,
      "outputs": []
    },
    {
      "cell_type": "code",
      "source": [
        "# Generate a synthetic dataset with 100 samples, each having 3 features\n",
        "synthetic_data = np.random.randn(100, 3)\n",
        "print(\"Synthetic data:\\n\", synthetic_data)"
      ],
      "metadata": {
        "id": "yUkThImFGhuW"
      },
      "execution_count": null,
      "outputs": []
    },
    {
      "cell_type": "markdown",
      "source": [
        "**Confusion Matrix**\n"
      ],
      "metadata": {
        "id": "YxnSFrg-ddRs"
      }
    },
    {
      "cell_type": "markdown",
      "source": [
        "\n",
        "      \n",
        "             Predicted 0    Predicted 1\n",
        "    Actual 0      TN              FP\n",
        "    Actual 1      FN              TP\n"
      ],
      "metadata": {
        "id": "RZk_XY6adQdo"
      }
    },
    {
      "cell_type": "code",
      "source": [
        "import numpy as np\n",
        "\n",
        "# Define true labels and predicted labels\n",
        "y_true = np.array([0, 1, 1, 0, 1, 1, 0, 0, 1, 0])\n",
        "y_pred = np.array([0, 1, 0, 0, 1, 1, 0, 1, 1, 1])\n",
        "\n",
        "# Compute the confusion matrix\n",
        "confusion_matrix = np.zeros((2, 2), dtype=int)\n",
        "for t, p in zip(y_true, y_pred):\n",
        "    confusion_matrix[t, p] += 1\n",
        "\n",
        "print(\"Confusion Matrix:\\n\", confusion_matrix)\n"
      ],
      "metadata": {
        "colab": {
          "base_uri": "https://localhost:8080/"
        },
        "id": "svtJERHVdOpo",
        "outputId": "865cf73f-ff2b-454d-cb9a-7bcb0c592cab"
      },
      "execution_count": null,
      "outputs": [
        {
          "output_type": "stream",
          "name": "stdout",
          "text": [
            "Confusion Matrix:\n",
            " [[3 2]\n",
            " [1 4]]\n"
          ]
        }
      ]
    }
  ]
}